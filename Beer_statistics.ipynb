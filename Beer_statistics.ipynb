{
 "cells": [
  {
   "cell_type": "code",
   "execution_count": 18,
   "metadata": {},
   "outputs": [],
   "source": [
    "# Import libraries\n",
    "import pandas as pd"
   ]
  },
  {
   "cell_type": "code",
   "execution_count": 19,
   "metadata": {},
   "outputs": [],
   "source": [
    "# Load csv file to dataframe\n",
    "filename = \"beer_profile_and_ratings.csv\"\n",
    "df = pd.read_csv(filename)\n"
   ]
  },
  {
   "cell_type": "code",
   "execution_count": 16,
   "metadata": {},
   "outputs": [
    {
     "data": {
      "text/plain": [
       "<bound method NDFrame.describe of                                           Name          Style  \\\n",
       "0                                        Amber        Altbier   \n",
       "1                                   Double Bag        Altbier   \n",
       "2                               Long Trail Ale        Altbier   \n",
       "3                                 Doppelsticke        Altbier   \n",
       "4                 Sleigh'r Dark Doüble Alt Ale        Altbier   \n",
       "...                                        ...            ...   \n",
       "3192                           Winter Shredder  Winter Warmer   \n",
       "3193                        The First Snow Ale  Winter Warmer   \n",
       "3194                       Red Nose Winter Ale  Winter Warmer   \n",
       "3195                      Fish Tale Winterfish  Winter Warmer   \n",
       "3196  Frosted Frog Christmas Ale - Barrel-Aged  Winter Warmer   \n",
       "\n",
       "                                               Brewery  \\\n",
       "0                                  Alaskan Brewing Co.   \n",
       "1                               Long Trail Brewing Co.   \n",
       "2                               Long Trail Brewing Co.   \n",
       "3     Uerige Obergärige Hausbrauerei GmbH / Zum Uerige   \n",
       "4                              Ninkasi Brewing Company   \n",
       "...                                                ...   \n",
       "3192                                Cisco Brewers Inc.   \n",
       "3193                        RJ Rockers Brewing Company   \n",
       "3194                  Natty Greene's Pub & Brewing Co.   \n",
       "3195           Fish Brewing Company / Fishbowl Brewpub   \n",
       "3196                              Hoppin' Frog Brewery   \n",
       "\n",
       "                                       Beer Name (Full)  \\\n",
       "0                     Alaskan Brewing Co. Alaskan Amber   \n",
       "1                     Long Trail Brewing Co. Double Bag   \n",
       "2                 Long Trail Brewing Co. Long Trail Ale   \n",
       "3     Uerige Obergärige Hausbrauerei GmbH / Zum Ueri...   \n",
       "4     Ninkasi Brewing Company Sleigh'r Dark Doüble A...   \n",
       "...                                                 ...   \n",
       "3192                 Cisco Brewers Inc. Winter Shredder   \n",
       "3193          RJ Rockers Brewing Company First Snow Ale   \n",
       "3194  Natty Greene's Pub & Brewing Co. Red Nose Wint...   \n",
       "3195  Fish Brewing Company / Fishbowl Brewpub Fish T...   \n",
       "3196  Hoppin' Frog Brewery Barrel Aged Frosted Frog ...   \n",
       "\n",
       "                                            Description  ABV  Min IBU  \\\n",
       "0     Notes:Richly malty and long on the palate, wit...  5.3       25   \n",
       "1     Notes:This malty, full-bodied double alt is al...  7.2       25   \n",
       "2     Notes:Long Trail Ale is a full-bodied amber al...  5.0       25   \n",
       "3                                                Notes:  8.5       25   \n",
       "4     Notes:Called 'Dark Double Alt' on the label.Se...  7.2       25   \n",
       "...                                                 ...  ...      ...   \n",
       "3192                                             Notes:  8.8       35   \n",
       "3193  Notes:This hearty American pale ale contains a...  6.0       35   \n",
       "3194                                             Notes:  6.8       35   \n",
       "3195                                             Notes:  7.5       35   \n",
       "3196  Notes:The essence of Christmas is captured in ...  8.6       35   \n",
       "\n",
       "      Max IBU  Astringency  Body  ...  Fruits  Hoppy  Spices  Malty  \\\n",
       "0          50           13    32  ...      33     57       8    111   \n",
       "1          50           12    57  ...      24     35      12     84   \n",
       "2          50           14    37  ...      10     54       4     62   \n",
       "3          50           13    55  ...      49     40      16    119   \n",
       "4          50           25    51  ...      11     51      20     95   \n",
       "...       ...          ...   ...  ...     ...    ...     ...    ...   \n",
       "3192       50           15    37  ...      23     45      67     74   \n",
       "3193       50           15    31  ...      54     14     140     58   \n",
       "3194       50            8    44  ...      26     21      96     77   \n",
       "3195       50           11    36  ...      81    110      18     73   \n",
       "3196       50            8    50  ...      33     16     148     69   \n",
       "\n",
       "      review_aroma  review_appearance  review_palate  review_taste  \\\n",
       "0         3.498994           3.636821       3.556338      3.643863   \n",
       "1         3.798337           3.846154       3.904366      4.024948   \n",
       "2         3.409814           3.667109       3.600796      3.631300   \n",
       "3         4.148098           4.033967       4.150815      4.205163   \n",
       "4         3.625000           3.973958       3.734375      3.765625   \n",
       "...            ...                ...            ...           ...   \n",
       "3192      4.125000           3.875000       3.875000      3.750000   \n",
       "3193      3.950000           3.750000       3.760000      3.790000   \n",
       "3194      3.576923           3.711538       3.596154      3.673077   \n",
       "3195      3.902299           3.885057       3.862069      3.902299   \n",
       "3196      3.888889           3.694444       3.833333      3.555556   \n",
       "\n",
       "      review_overall  number_of_reviews  \n",
       "0           3.847082                497  \n",
       "1           4.034304                481  \n",
       "2           3.830239                377  \n",
       "3           4.005435                368  \n",
       "4           3.817708                 96  \n",
       "...              ...                ...  \n",
       "3192        4.000000                  4  \n",
       "3193        3.730000                 50  \n",
       "3194        3.711538                 26  \n",
       "3195        3.879310                 87  \n",
       "3196        3.527778                 18  \n",
       "\n",
       "[3197 rows x 25 columns]>"
      ]
     },
     "execution_count": 16,
     "metadata": {},
     "output_type": "execute_result"
    }
   ],
   "source": [
    "df.describe"
   ]
  }
 ],
 "metadata": {
  "kernelspec": {
   "display_name": "Python 3",
   "language": "python",
   "name": "python3"
  },
  "language_info": {
   "codemirror_mode": {
    "name": "ipython",
    "version": 3
   },
   "file_extension": ".py",
   "mimetype": "text/x-python",
   "name": "python",
   "nbconvert_exporter": "python",
   "pygments_lexer": "ipython3",
   "version": "3.12.0"
  }
 },
 "nbformat": 4,
 "nbformat_minor": 2
}
